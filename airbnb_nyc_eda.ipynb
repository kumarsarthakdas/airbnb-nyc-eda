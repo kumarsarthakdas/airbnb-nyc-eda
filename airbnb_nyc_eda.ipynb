{
  "nbformat": 4,
  "nbformat_minor": 0,
  "metadata": {
    "colab": {
      "provenance": [],
      "toc_visible": true
    },
    "kernelspec": {
      "name": "python3",
      "display_name": "Python 3"
    },
    "language_info": {
      "name": "python"
    }
  },
  "cells": [
    {
      "cell_type": "markdown",
      "source": [
        "# Exploratory Data Analysis on New York City Airbnb Listings 2024 Dataset\n"
      ],
      "metadata": {
        "id": "aH0C-zgnVDBJ"
      }
    },
    {
      "cell_type": "markdown",
      "source": [
        "## Acknowledgements\n",
        "The EDA is performed on the Airbnb Listings dataset of New York City (5 January, 2024).\n",
        "\n",
        "The original dataset can be found [here](https://insideairbnb.com/get-the-data/)."
      ],
      "metadata": {
        "id": "5s2-q6t195c8"
      }
    },
    {
      "cell_type": "markdown",
      "source": [
        "## Objectives\n",
        "- Exploration and cleaning of the dataset\n",
        "- Visualization of the relationships among different attributes"
      ],
      "metadata": {
        "id": "Z5lvhYSo2Y3y"
      }
    },
    {
      "cell_type": "markdown",
      "source": [
        "## Loading Data"
      ],
      "metadata": {
        "id": "dlmTEB_E1TrK"
      }
    },
    {
      "cell_type": "code",
      "source": [
        "# importing necessary libraries\n",
        "import pandas as pd\n",
        "import numpy as np\n",
        "import matplotlib.pyplot as plt\n",
        "import seaborn as sns\n",
        "import warnings\n",
        "warnings.filterwarnings('ignore')"
      ],
      "metadata": {
        "id": "d-5ash1FYfUZ"
      },
      "execution_count": null,
      "outputs": []
    },
    {
      "cell_type": "code",
      "source": [
        "# mount the dataset\n",
        "fpath = '/content/airbnb_listings_nyc.csv'\n",
        "nyc = pd.read_csv(fpath)"
      ],
      "metadata": {
        "id": "4RWalbJWZKPx"
      },
      "execution_count": null,
      "outputs": []
    },
    {
      "cell_type": "markdown",
      "source": [
        "## Understanding and Cleaning Data"
      ],
      "metadata": {
        "id": "npJxyusP2G0Q"
      }
    },
    {
      "cell_type": "code",
      "source": [
        "# display the shape of the dataset\n",
        "nyc.shape"
      ],
      "metadata": {
        "id": "y5TtXJ2lzgO5"
      },
      "execution_count": null,
      "outputs": []
    },
    {
      "cell_type": "code",
      "source": [
        "# display the first few rows of the dataset\n",
        "nyc.head()"
      ],
      "metadata": {
        "id": "RvgwGWRgazSS"
      },
      "execution_count": null,
      "outputs": []
    },
    {
      "cell_type": "code",
      "source": [
        "# display columns and their data types\n",
        "nyc.dtypes"
      ],
      "metadata": {
        "id": "mb-wh83uiPz2"
      },
      "execution_count": null,
      "outputs": []
    },
    {
      "cell_type": "code",
      "source": [
        "# rename 'neighbourhood_group' to 'town'\n",
        "nyc = nyc.rename(columns={'neighbourhood_group': 'town'})"
      ],
      "metadata": {
        "id": "gSb_OJct6mHw"
      },
      "execution_count": null,
      "outputs": []
    },
    {
      "cell_type": "code",
      "source": [
        "# review the columns\n",
        "nyc.columns"
      ],
      "metadata": {
        "id": "A4KlysdzlIBY"
      },
      "execution_count": null,
      "outputs": []
    },
    {
      "cell_type": "code",
      "source": [
        "# remove duplicate rows if any\n",
        "nyc.duplicated().sum()\n",
        "nyc.drop_duplicates(inplace=True)"
      ],
      "metadata": {
        "id": "OMTum4Eagv1C"
      },
      "execution_count": null,
      "outputs": []
    },
    {
      "cell_type": "code",
      "source": [
        "# find out if there are any null values in the dataset\n",
        "nyc.isnull().sum()"
      ],
      "metadata": {
        "id": "Ktv7ybtlbZ0b"
      },
      "execution_count": null,
      "outputs": []
    },
    {
      "cell_type": "code",
      "source": [
        "# drop the insignificant columns\n",
        "nyc.drop(['id', 'name', 'host_name', 'last_review'], axis=1, inplace=True)\n",
        "\n",
        "# review changes\n",
        "nyc.head()"
      ],
      "metadata": {
        "id": "RTUw18oYc7bz"
      },
      "execution_count": null,
      "outputs": []
    },
    {
      "cell_type": "code",
      "source": [
        "# replace null values in 'reviews_per_month' with 0\n",
        "nyc.fillna({'reviews_per_month': 0}, inplace=True)"
      ],
      "metadata": {
        "id": "9BZsayPHfqRR"
      },
      "execution_count": null,
      "outputs": []
    },
    {
      "cell_type": "code",
      "source": [
        "# replace null values in 'license' with 'No License'\n",
        "nyc.fillna({'license': 'No License'}, inplace=True)"
      ],
      "metadata": {
        "id": "0Ip0opfGitF7"
      },
      "execution_count": null,
      "outputs": []
    },
    {
      "cell_type": "code",
      "source": [
        "# review dataset for null values\n",
        "nyc.isnull().sum()"
      ],
      "metadata": {
        "id": "TH3JqcaI0gRY"
      },
      "execution_count": null,
      "outputs": []
    },
    {
      "cell_type": "code",
      "source": [
        "# get concise information about the dataset\n",
        "nyc.info()"
      ],
      "metadata": {
        "id": "OvvPYzgl08Wy"
      },
      "execution_count": null,
      "outputs": []
    },
    {
      "cell_type": "code",
      "source": [
        "# examine continuous variables\n",
        "nyc.describe()"
      ],
      "metadata": {
        "id": "M3-nyer21UDb"
      },
      "execution_count": null,
      "outputs": []
    },
    {
      "cell_type": "code",
      "source": [
        "# display unique values of town\n",
        "nyc.town.unique()"
      ],
      "metadata": {
        "id": "vCHZjZdU3Yf7"
      },
      "execution_count": null,
      "outputs": []
    },
    {
      "cell_type": "code",
      "source": [
        "# examine the number of unique values of neighbourhood\n",
        "len(nyc.neighbourhood.unique())"
      ],
      "metadata": {
        "id": "y9xK4MGQ6MXo"
      },
      "execution_count": null,
      "outputs": []
    },
    {
      "cell_type": "code",
      "source": [
        "# display unique values of room_type\n",
        "nyc.room_type.unique()"
      ],
      "metadata": {
        "id": "hQM2OE-T7yfd"
      },
      "execution_count": null,
      "outputs": []
    },
    {
      "cell_type": "code",
      "source": [
        "# examine the number of unique values of license\n",
        "len(nyc.license.unique())"
      ],
      "metadata": {
        "id": "S1y3bH3K8X73"
      },
      "execution_count": null,
      "outputs": []
    },
    {
      "cell_type": "markdown",
      "source": [
        "## Visualizing Data"
      ],
      "metadata": {
        "id": "7KaPU0e705az"
      }
    },
    {
      "cell_type": "code",
      "source": [
        "# display the number of listings in each town\n",
        "nyc.town.value_counts()"
      ],
      "metadata": {
        "id": "w6YhENMY1Fvu"
      },
      "execution_count": null,
      "outputs": []
    },
    {
      "cell_type": "code",
      "source": [
        "# count plot for distribution of listings in each town\n",
        "plt.figure(figsize=(10, 6))\n",
        "sns.countplot(x='town', data=nyc, palette='magma')\n",
        "plt.title('Distribution of Listings in Each Town')\n",
        "plt.xlabel('Town')\n",
        "plt.ylabel('Number of Listings')\n",
        "plt.show()"
      ],
      "metadata": {
        "id": "bx_l6hh-2ium"
      },
      "execution_count": null,
      "outputs": []
    },
    {
      "cell_type": "code",
      "source": [
        "# display the count of each room_type\n",
        "nyc.room_type.value_counts()"
      ],
      "metadata": {
        "id": "hMMV9aKd4EuO"
      },
      "execution_count": null,
      "outputs": []
    },
    {
      "cell_type": "code",
      "source": [
        "# count plot for distribution of room_type\n",
        "plt.figure(figsize=(10, 6))\n",
        "sns.countplot(x='room_type', data=nyc, palette='crest')\n",
        "plt.title('Distribution of Room Types')\n",
        "plt.xlabel('Room Type')\n",
        "plt.ylabel('Number of Listings')\n",
        "plt.show()"
      ],
      "metadata": {
        "id": "a3ra977D4e62"
      },
      "execution_count": null,
      "outputs": []
    },
    {
      "cell_type": "code",
      "source": [
        "# box plot for price per town\n",
        "plt.figure(figsize=(10, 6))\n",
        "sns.boxplot(x='town', y='price', data=nyc, palette='viridis')\n",
        "plt.title('Price Distribution Per Town')\n",
        "plt.xlabel('Town')\n",
        "plt.ylabel('Price')\n",
        "plt.show()"
      ],
      "metadata": {
        "id": "1DhBvxIoDRDS"
      },
      "execution_count": null,
      "outputs": []
    },
    {
      "cell_type": "code",
      "source": [
        "# display summary stats for price\n",
        "print(\"Mean = %s\" % (np.mean(nyc.price)))\n",
        "print(\"Max = %s\" % (np.max(nyc.price)))\n",
        "print(\"Min = %s\" % (np.min(nyc.price)))\n",
        "print(\"Median = %s\" % (np.median(nyc.price)))\n",
        "print(\"Standard Dev = %s\" % (np.std(nyc.price)))"
      ],
      "metadata": {
        "id": "wpnbRqA1GbkR"
      },
      "execution_count": null,
      "outputs": []
    },
    {
      "cell_type": "code",
      "source": [
        "# Removing the outliers and plotting again, this time with log of price to get a clearer understanding\n",
        "plt.figure(figsize=(10, 6))\n",
        "nyc = nyc.query(\"price < 20000\")\n",
        "nyc['log_price'] = np.log(nyc['price'])\n",
        "sns.boxplot(x='town', y='log_price', data=nyc, palette='viridis')\n",
        "plt.title('Price Distribution Per Town (Excluding Outliers)')\n",
        "plt.xlabel('Town')\n",
        "plt.ylabel('Log of Price')\n",
        "plt.tight_layout()\n",
        "plt.show()"
      ],
      "metadata": {
        "id": "E31Y0rU9F9Xh"
      },
      "execution_count": null,
      "outputs": []
    },
    {
      "cell_type": "code",
      "source": [
        "# bar plot for average price of listings in each town\n",
        "plt.figure(figsize=(10, 6))\n",
        "sns.barplot(x='town', y='price', data=nyc, palette='magma', errorbar=None)\n",
        "plt.title('Average Price of Listings in Each Town')\n",
        "plt.xlabel('Town')\n",
        "plt.ylabel('Average Price')\n",
        "plt.show()"
      ],
      "metadata": {
        "id": "tvo_TKE9FZpw"
      },
      "execution_count": null,
      "outputs": []
    },
    {
      "cell_type": "code",
      "source": [
        "# check the number of listings above the mean price\n",
        "meanprice = str(np.mean(nyc.price))\n",
        "len(nyc.query(\"price >= \" + meanprice))"
      ],
      "metadata": {
        "id": "Hf67jM_GbMPy"
      },
      "execution_count": null,
      "outputs": []
    },
    {
      "cell_type": "code",
      "source": [
        "# box plot for correlation between room_type and price\n",
        "plt.figure(figsize=(10, 6))\n",
        "sns.boxplot(x='room_type', y='log_price', data=nyc, palette='crest')\n",
        "plt.title('Price Distribution Per Room Type')\n",
        "plt.xlabel('Room Type')\n",
        "plt.ylabel('Log of Price')\n",
        "plt.show()"
      ],
      "metadata": {
        "id": "lSOn2c3EhbVx"
      },
      "execution_count": null,
      "outputs": []
    },
    {
      "cell_type": "code",
      "source": [
        "# scatter plot for correlation between price and number_of_reviews\n",
        "plt.figure(figsize=(10, 6))\n",
        "sns.scatterplot(x='log_price', y='number_of_reviews', data=nyc, alpha=0.6, color='blue')\n",
        "plt.title('Correlation Between Price and Number of Reviews')\n",
        "plt.xlabel('Log of Price')\n",
        "plt.ylabel('Number of Reviews')\n",
        "plt.show()"
      ],
      "metadata": {
        "id": "Hc8ARR6qmCFI"
      },
      "execution_count": null,
      "outputs": []
    },
    {
      "cell_type": "code",
      "source": [
        "# scatter plot for correlation between price and reviews_per_month\n",
        "plt.figure(figsize=(10, 6))\n",
        "sns.scatterplot(x='log_price', y='reviews_per_month', data=nyc, alpha=0.6, color='green')\n",
        "plt.title('Correlation Between Price and Reviews per month')\n",
        "plt.xlabel('Log of Price')\n",
        "plt.ylabel('Reviews Per Month')\n",
        "plt.show()"
      ],
      "metadata": {
        "id": "_8jWKYs2txQP"
      },
      "execution_count": null,
      "outputs": []
    },
    {
      "cell_type": "code",
      "source": [
        "# group the listings based on license\n",
        "has_license = []\n",
        "for i in nyc[\"license\"]:\n",
        "    if i == \"No License\":\n",
        "      has_license.append(\"No License\")\n",
        "    elif i == \"Exempt\":\n",
        "      has_license.append(\"Exempt\")\n",
        "    else:\n",
        "      has_license.append(\"License Permitted\")\n",
        "nyc[\"has_license\"] = has_license\n",
        "nyc.has_license.value_counts()"
      ],
      "metadata": {
        "id": "Hl0vPTv0r0nv"
      },
      "execution_count": null,
      "outputs": []
    },
    {
      "cell_type": "code",
      "source": [
        "# pie chart for distribution of license among the listings\n",
        "license_data = nyc.has_license.value_counts()\n",
        "plt.pie(license_data, labels=['No License','Exempt', 'License Permitted'], autopct='%.2f%%', colors=['skyblue', 'orchid', 'salmon'])\n",
        "plt.title('Distribution of License')\n",
        "plt.show()"
      ],
      "metadata": {
        "id": "66qH50gMuwSt"
      },
      "execution_count": null,
      "outputs": []
    },
    {
      "cell_type": "code",
      "source": [
        "# box plot for correlation between price and license\n",
        "plt.figure(figsize=(10, 6))\n",
        "sns.boxplot(nyc, x = \"has_license\", y = \"log_price\")\n",
        "plt.title('Correlation Between Price and License')\n",
        "plt.xlabel('License')\n",
        "plt.ylabel('Log of Price')\n",
        "plt.show()"
      ],
      "metadata": {
        "id": "9ZSJPMJQr6oF"
      },
      "execution_count": null,
      "outputs": []
    },
    {
      "cell_type": "code",
      "source": [
        "# heat map for correlation between numerical attributes\n",
        "nyc_map = nyc.iloc[:, 0:14]\n",
        "corr = nyc_map.corr(method='kendall')\n",
        "plt.figure(figsize=(15,8))\n",
        "sns.heatmap(corr, annot=True, cmap='GnBu')\n",
        "plt.title('Correlation Matrix of Numerical Features')\n",
        "nyc.columns"
      ],
      "metadata": {
        "id": "qff9tknF7RLL"
      },
      "execution_count": null,
      "outputs": []
    },
    {
      "cell_type": "markdown",
      "source": [
        "## References\n",
        "- [Kaggle Dataset 1](https://www.kaggle.com/datasets/dgomonov/new-york-city-airbnb-open-data)\n",
        "- [Kaggle Dataset 2](https://www.kaggle.com/datasets/vrindakallu/new-york-dataset/data)"
      ],
      "metadata": {
        "id": "c8lFF7EHSgUI"
      }
    },
    {
      "cell_type": "markdown",
      "source": [
        "## Author\n",
        "[Sarthak Kumar Das](https://www.linkedin.com/in/sarthak-kumar-das/)"
      ],
      "metadata": {
        "id": "7yL5HGNFSVfg"
      }
    }
  ]
}